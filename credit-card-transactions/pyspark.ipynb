{
 "cells": [
  {
   "cell_type": "markdown",
   "id": "fa24f9ba-7095-4226-8ab3-b3a1d264a090",
   "metadata": {},
   "source": [
    "# import library"
   ]
  },
  {
   "cell_type": "markdown",
   "id": "2f359f80-4e40-4d88-8938-9e7e1b7ca10c",
   "metadata": {},
   "source": [
    "https://www.datacamp.com/community/tutorials/installation-of-pyspark"
   ]
  },
  {
   "cell_type": "code",
   "execution_count": 1,
   "id": "f3002638-5bbe-4286-b711-1048e8166fff",
   "metadata": {},
   "outputs": [],
   "source": [
    "import findspark\n",
    "import seaborn as sns\n",
    "from matplotlib import pyplot as plt\n",
    "\n",
    "findspark.init(\"/home/om/spark-3.1.1-bin-hadoop2.7\")\n",
    "import numpy as np\n",
    "import pandas as pd\n",
    "import pyspark\n",
    "from pyspark import SparkConf, SparkContext\n",
    "from pyspark.sql import SparkSession\n",
    "from pyspark.sql.functions import explode, split"
   ]
  },
  {
   "cell_type": "markdown",
   "id": "6da78388-3d1f-48a3-b6ff-d3ab4f89cbb7",
   "metadata": {},
   "source": [
    "# create session"
   ]
  },
  {
   "cell_type": "code",
   "execution_count": 2,
   "id": "abae6bce-3cc8-4e35-b01b-2068016ef577",
   "metadata": {},
   "outputs": [],
   "source": [
    "conf = SparkConf().setAppName(\"MyApp\").setMaster(\"local\")\n",
    "sc = SparkContext(conf=conf)"
   ]
  },
  {
   "cell_type": "code",
   "execution_count": 3,
   "id": "c241ce44-1ec5-4cb6-8dfe-4a07ce8235bf",
   "metadata": {},
   "outputs": [],
   "source": [
    "spark = (\n",
    "    SparkSession.builder.appName(\"Python Spark Transactions\")\n",
    "    .config(\"spark.some.config.option\", \"some-value\")\n",
    "    .getOrCreate()\n",
    ")"
   ]
  },
  {
   "cell_type": "code",
   "execution_count": 4,
   "id": "830907bd-1d42-410a-9736-80739a8ba03a",
   "metadata": {},
   "outputs": [
    {
     "data": {
      "text/html": [
       "\n",
       "            <div>\n",
       "                <p><b>SparkSession - in-memory</b></p>\n",
       "                \n",
       "        <div>\n",
       "            <p><b>SparkContext</b></p>\n",
       "\n",
       "            <p><a href=\"http://192.168.1.88:4040\">Spark UI</a></p>\n",
       "\n",
       "            <dl>\n",
       "              <dt>Version</dt>\n",
       "                <dd><code>v3.1.1</code></dd>\n",
       "              <dt>Master</dt>\n",
       "                <dd><code>local</code></dd>\n",
       "              <dt>AppName</dt>\n",
       "                <dd><code>MyApp</code></dd>\n",
       "            </dl>\n",
       "        </div>\n",
       "        \n",
       "            </div>\n",
       "        "
      ],
      "text/plain": [
       "<pyspark.sql.session.SparkSession at 0x7f31044ba8e0>"
      ]
     },
     "execution_count": 4,
     "metadata": {},
     "output_type": "execute_result"
    }
   ],
   "source": [
    "spark"
   ]
  },
  {
   "cell_type": "markdown",
   "id": "0461881f-9e39-4d58-b8b6-dbb93e0e33e3",
   "metadata": {},
   "source": [
    "# read the transactions file"
   ]
  },
  {
   "cell_type": "code",
   "execution_count": 5,
   "id": "929947fe-7ba6-4b4d-807b-91aeea054c59",
   "metadata": {},
   "outputs": [],
   "source": [
    "data_ts = spark.read.load(\n",
    "    \"transactions.csv\", format=\"csv\", header=\"true\", inferSchema=\"true\"\n",
    ")"
   ]
  },
  {
   "cell_type": "code",
   "execution_count": 6,
   "id": "85e04150-9206-4f76-bd85-8b1c3e158b09",
   "metadata": {},
   "outputs": [
    {
     "data": {
      "text/plain": [
       "pyspark.sql.dataframe.DataFrame"
      ]
     },
     "execution_count": 6,
     "metadata": {},
     "output_type": "execute_result"
    }
   ],
   "source": [
    "type(data_ts)"
   ]
  },
  {
   "cell_type": "code",
   "execution_count": 11,
   "id": "d66999e9-c346-48d9-80d9-2da0d124f17c",
   "metadata": {},
   "outputs": [
    {
     "name": "stdout",
     "output_type": "stream",
     "text": [
      "+-------+------+\n",
      "|isFraud| count|\n",
      "+-------+------+\n",
      "|   true| 11302|\n",
      "|  false|630612|\n",
      "+-------+------+\n",
      "\n"
     ]
    }
   ],
   "source": [
    "data_ts.groupBy(\"isFraud\").count().show()"
   ]
  },
  {
   "cell_type": "code",
   "execution_count": 8,
   "id": "f2249cc6-fee1-4f04-8f99-cb3dca70b89f",
   "metadata": {},
   "outputs": [],
   "source": [
    "data = data_ts.toPandas()\n",
    "data = data.sample(frac=1)"
   ]
  },
  {
   "cell_type": "code",
   "execution_count": 9,
   "id": "ae83f68f-d496-44c2-8631-56895ae42982",
   "metadata": {},
   "outputs": [],
   "source": [
    "data.isFraud = data.isFraud.astype(int)"
   ]
  },
  {
   "cell_type": "code",
   "execution_count": 10,
   "id": "52d0dca6-91e4-4fbe-9b43-365d9aca17b4",
   "metadata": {},
   "outputs": [
    {
     "data": {
      "text/html": [
       "<div>\n",
       "<style scoped>\n",
       "    .dataframe tbody tr th:only-of-type {\n",
       "        vertical-align: middle;\n",
       "    }\n",
       "\n",
       "    .dataframe tbody tr th {\n",
       "        vertical-align: top;\n",
       "    }\n",
       "\n",
       "    .dataframe thead th {\n",
       "        text-align: right;\n",
       "    }\n",
       "</style>\n",
       "<table border=\"1\" class=\"dataframe\">\n",
       "  <thead>\n",
       "    <tr style=\"text-align: right;\">\n",
       "      <th></th>\n",
       "      <th>accountNumber</th>\n",
       "      <th>customerId</th>\n",
       "      <th>creditLimit</th>\n",
       "      <th>availableMoney</th>\n",
       "      <th>transactionDateTime</th>\n",
       "      <th>transactionAmount</th>\n",
       "      <th>merchantName</th>\n",
       "      <th>acqCountry</th>\n",
       "      <th>merchantCountryCode</th>\n",
       "      <th>posEntryMode</th>\n",
       "      <th>...</th>\n",
       "      <th>accountOpenDate</th>\n",
       "      <th>dateOfLastAddressChange</th>\n",
       "      <th>cardCVV</th>\n",
       "      <th>enteredCVV</th>\n",
       "      <th>cardLast4Digits</th>\n",
       "      <th>transactionType</th>\n",
       "      <th>isFraud</th>\n",
       "      <th>currentBalance</th>\n",
       "      <th>cardPresent</th>\n",
       "      <th>expirationDateKeyInMatch</th>\n",
       "    </tr>\n",
       "  </thead>\n",
       "  <tbody>\n",
       "    <tr>\n",
       "      <th>176005</th>\n",
       "      <td>822203001</td>\n",
       "      <td>822203001</td>\n",
       "      <td>5000</td>\n",
       "      <td>889.87</td>\n",
       "      <td>2016-11-25 17:56:36</td>\n",
       "      <td>96.23</td>\n",
       "      <td>ebay.com</td>\n",
       "      <td>US</td>\n",
       "      <td>US</td>\n",
       "      <td>9.0</td>\n",
       "      <td>...</td>\n",
       "      <td>11/1/2014</td>\n",
       "      <td>24/10/2016</td>\n",
       "      <td>180</td>\n",
       "      <td>180</td>\n",
       "      <td>6060</td>\n",
       "      <td>PURCHASE</td>\n",
       "      <td>0</td>\n",
       "      <td>4110.13</td>\n",
       "      <td>False</td>\n",
       "      <td>False</td>\n",
       "    </tr>\n",
       "    <tr>\n",
       "      <th>155632</th>\n",
       "      <td>445516477</td>\n",
       "      <td>445516477</td>\n",
       "      <td>10000</td>\n",
       "      <td>708.55</td>\n",
       "      <td>2016-11-18 09:33:45</td>\n",
       "      <td>652.10</td>\n",
       "      <td>AMC #692956</td>\n",
       "      <td>US</td>\n",
       "      <td>US</td>\n",
       "      <td>9.0</td>\n",
       "      <td>...</td>\n",
       "      <td>26/11/2013</td>\n",
       "      <td>15/1/2016</td>\n",
       "      <td>329</td>\n",
       "      <td>329</td>\n",
       "      <td>1982</td>\n",
       "      <td>PURCHASE</td>\n",
       "      <td>0</td>\n",
       "      <td>9291.45</td>\n",
       "      <td>True</td>\n",
       "      <td>False</td>\n",
       "    </tr>\n",
       "    <tr>\n",
       "      <th>370534</th>\n",
       "      <td>900828152</td>\n",
       "      <td>900828152</td>\n",
       "      <td>7500</td>\n",
       "      <td>4805.90</td>\n",
       "      <td>2016-08-23 10:14:09</td>\n",
       "      <td>114.23</td>\n",
       "      <td>Lyft</td>\n",
       "      <td>US</td>\n",
       "      <td>US</td>\n",
       "      <td>9.0</td>\n",
       "      <td>...</td>\n",
       "      <td>28/4/2015</td>\n",
       "      <td>26/6/2016</td>\n",
       "      <td>237</td>\n",
       "      <td>237</td>\n",
       "      <td>6444</td>\n",
       "      <td>PURCHASE</td>\n",
       "      <td>0</td>\n",
       "      <td>2694.10</td>\n",
       "      <td>False</td>\n",
       "      <td>False</td>\n",
       "    </tr>\n",
       "    <tr>\n",
       "      <th>278856</th>\n",
       "      <td>314506271</td>\n",
       "      <td>314506271</td>\n",
       "      <td>250</td>\n",
       "      <td>250.00</td>\n",
       "      <td>2016-06-14 19:36:36</td>\n",
       "      <td>60.36</td>\n",
       "      <td>KFC #113520</td>\n",
       "      <td>US</td>\n",
       "      <td>US</td>\n",
       "      <td>2.0</td>\n",
       "      <td>...</td>\n",
       "      <td>15/6/2015</td>\n",
       "      <td>23/4/2016</td>\n",
       "      <td>815</td>\n",
       "      <td>815</td>\n",
       "      <td>2640</td>\n",
       "      <td>PURCHASE</td>\n",
       "      <td>0</td>\n",
       "      <td>0.00</td>\n",
       "      <td>False</td>\n",
       "      <td>False</td>\n",
       "    </tr>\n",
       "    <tr>\n",
       "      <th>156446</th>\n",
       "      <td>387040271</td>\n",
       "      <td>387040271</td>\n",
       "      <td>5000</td>\n",
       "      <td>1327.44</td>\n",
       "      <td>2016-04-01 10:07:27</td>\n",
       "      <td>242.44</td>\n",
       "      <td>EZ Putt Putt #551896</td>\n",
       "      <td>US</td>\n",
       "      <td>US</td>\n",
       "      <td>90.0</td>\n",
       "      <td>...</td>\n",
       "      <td>6/12/2011</td>\n",
       "      <td>7/3/2016</td>\n",
       "      <td>347</td>\n",
       "      <td>347</td>\n",
       "      <td>1972</td>\n",
       "      <td>PURCHASE</td>\n",
       "      <td>0</td>\n",
       "      <td>3672.56</td>\n",
       "      <td>True</td>\n",
       "      <td>False</td>\n",
       "    </tr>\n",
       "  </tbody>\n",
       "</table>\n",
       "<p>5 rows × 23 columns</p>\n",
       "</div>"
      ],
      "text/plain": [
       "        accountNumber  customerId  creditLimit  availableMoney  \\\n",
       "176005      822203001   822203001         5000          889.87   \n",
       "155632      445516477   445516477        10000          708.55   \n",
       "370534      900828152   900828152         7500         4805.90   \n",
       "278856      314506271   314506271          250          250.00   \n",
       "156446      387040271   387040271         5000         1327.44   \n",
       "\n",
       "       transactionDateTime  transactionAmount          merchantName  \\\n",
       "176005 2016-11-25 17:56:36              96.23              ebay.com   \n",
       "155632 2016-11-18 09:33:45             652.10           AMC #692956   \n",
       "370534 2016-08-23 10:14:09             114.23                  Lyft   \n",
       "278856 2016-06-14 19:36:36              60.36           KFC #113520   \n",
       "156446 2016-04-01 10:07:27             242.44  EZ Putt Putt #551896   \n",
       "\n",
       "       acqCountry merchantCountryCode  posEntryMode  ...  accountOpenDate  \\\n",
       "176005         US                  US           9.0  ...        11/1/2014   \n",
       "155632         US                  US           9.0  ...       26/11/2013   \n",
       "370534         US                  US           9.0  ...        28/4/2015   \n",
       "278856         US                  US           2.0  ...        15/6/2015   \n",
       "156446         US                  US          90.0  ...        6/12/2011   \n",
       "\n",
       "       dateOfLastAddressChange cardCVV enteredCVV cardLast4Digits  \\\n",
       "176005              24/10/2016     180        180            6060   \n",
       "155632               15/1/2016     329        329            1982   \n",
       "370534               26/6/2016     237        237            6444   \n",
       "278856               23/4/2016     815        815            2640   \n",
       "156446                7/3/2016     347        347            1972   \n",
       "\n",
       "        transactionType  isFraud  currentBalance cardPresent  \\\n",
       "176005         PURCHASE        0         4110.13       False   \n",
       "155632         PURCHASE        0         9291.45        True   \n",
       "370534         PURCHASE        0         2694.10       False   \n",
       "278856         PURCHASE        0            0.00       False   \n",
       "156446         PURCHASE        0         3672.56        True   \n",
       "\n",
       "        expirationDateKeyInMatch  \n",
       "176005                     False  \n",
       "155632                     False  \n",
       "370534                     False  \n",
       "278856                     False  \n",
       "156446                     False  \n",
       "\n",
       "[5 rows x 23 columns]"
      ]
     },
     "execution_count": 10,
     "metadata": {},
     "output_type": "execute_result"
    }
   ],
   "source": [
    "data.head()"
   ]
  },
  {
   "cell_type": "code",
   "execution_count": 12,
   "id": "280b03a0-0e7e-4554-921e-45b370cf2e37",
   "metadata": {},
   "outputs": [
    {
     "data": {
      "image/png": "[encoded data removed]",
      "text/plain": [
       "<Figure size 1080x720 with 2 Axes>"
      ]
     },
     "metadata": {
      "needs_background": "light"
     },
     "output_type": "display_data"
    }
   ],
   "source": [
    "plt.figure(figsize=(15, 10))\n",
    "sns.heatmap(data.corr(), cmap=plt.cm.coolwarm_r, annot=True, fmt=\".1f\");"
   ]
  },
  {
   "cell_type": "code",
   "execution_count": 13,
   "id": "37e58e40-a234-4dd4-9b03-0b3001239c00",
   "metadata": {},
   "outputs": [
    {
     "data": {
      "text/plain": [
       "accountNumber                        int32\n",
       "customerId                           int32\n",
       "creditLimit                          int32\n",
       "availableMoney                     float64\n",
       "transactionDateTime         datetime64[ns]\n",
       "transactionAmount                  float64\n",
       "merchantName                        object\n",
       "acqCountry                          object\n",
       "merchantCountryCode                 object\n",
       "posEntryMode                       float64\n",
       "posConditionCode                   float64\n",
       "merchantCategoryCode                object\n",
       "currentExpDate                      object\n",
       "accountOpenDate                     object\n",
       "dateOfLastAddressChange             object\n",
       "cardCVV                              int32\n",
       "enteredCVV                           int32\n",
       "cardLast4Digits                      int32\n",
       "transactionType                     object\n",
       "isFraud                              int64\n",
       "currentBalance                     float64\n",
       "cardPresent                           bool\n",
       "expirationDateKeyInMatch              bool\n",
       "dtype: object"
      ]
     },
     "execution_count": 13,
     "metadata": {},
     "output_type": "execute_result"
    }
   ],
   "source": [
    "data.dtypes"
   ]
  },
  {
   "cell_type": "code",
   "execution_count": 14,
   "id": "ddd38a46-3a26-4df0-a872-0d130cc16044",
   "metadata": {},
   "outputs": [],
   "source": [
    "data.transactionDateTime = data.transactionDateTime.astype(str)"
   ]
  },
  {
   "cell_type": "code",
   "execution_count": 15,
   "id": "88193d91-fa31-4073-8df0-086513aec82d",
   "metadata": {},
   "outputs": [
    {
     "data": {
      "text/plain": [
       "(22604, 23)"
      ]
     },
     "execution_count": 15,
     "metadata": {},
     "output_type": "execute_result"
    }
   ],
   "source": [
    "# amount of fraud classes 11302 rows.\n",
    "fraud_df = data.loc[data[\"isFraud\"] == 1]\n",
    "non_fraud_df = data.loc[data[\"isFraud\"] == 0][:11302]\n",
    "\n",
    "normal_distributed_df = pd.concat([fraud_df, non_fraud_df])\n",
    "\n",
    "# Shuffle dataframe rows\n",
    "new_df = normal_distributed_df.sample(frac=1, random_state=42)\n",
    "\n",
    "new_df.shape"
   ]
  },
  {
   "cell_type": "code",
   "execution_count": 16,
   "id": "c5334749-1716-403e-8143-64017adb4adc",
   "metadata": {},
   "outputs": [
    {
     "data": {
      "image/png": "[encoded data removed]",
      "text/plain": [
       "<Figure size 1080x720 with 2 Axes>"
      ]
     },
     "metadata": {
      "needs_background": "light"
     },
     "output_type": "display_data"
    }
   ],
   "source": [
    "plt.figure(figsize=(15, 10))\n",
    "sns.heatmap(new_df.corr(), cmap=plt.cm.coolwarm_r, annot=True, fmt=\".1f\");"
   ]
  },
  {
   "cell_type": "code",
   "execution_count": 17,
   "id": "9413f473-fd49-4ce4-96ea-eaa5f7d89267",
   "metadata": {},
   "outputs": [
    {
     "data": {
      "text/plain": [
       "accountNumber    accountNumber        1.000000\n",
       "cardCVV          enteredCVV           0.993772\n",
       "creditLimit      availableMoney       0.849745\n",
       "                 currentBalance       0.611240\n",
       "isFraud          transactionAmount    0.278030\n",
       "                                        ...   \n",
       "creditLimit      cardPresent         -0.052398\n",
       "                 cardLast4Digits     -0.068146\n",
       "accountNumber    creditLimit         -0.073065\n",
       "cardLast4Digits  currentBalance      -0.073403\n",
       "customerId       currentBalance      -0.075951\n",
       "Length: 79, dtype: float64"
      ]
     },
     "execution_count": 17,
     "metadata": {},
     "output_type": "execute_result"
    }
   ],
   "source": [
    "new_df.corr().unstack().sort_values(ascending=False).drop_duplicates()"
   ]
  },
  {
   "cell_type": "code",
   "execution_count": 18,
   "id": "ddf9bdc1-ebb0-416c-933b-4de95a84c6cd",
   "metadata": {},
   "outputs": [
    {
     "data": {
      "text/html": [
       "<div>\n",
       "<style scoped>\n",
       "    .dataframe tbody tr th:only-of-type {\n",
       "        vertical-align: middle;\n",
       "    }\n",
       "\n",
       "    .dataframe tbody tr th {\n",
       "        vertical-align: top;\n",
       "    }\n",
       "\n",
       "    .dataframe thead th {\n",
       "        text-align: right;\n",
       "    }\n",
       "</style>\n",
       "<table border=\"1\" class=\"dataframe\">\n",
       "  <thead>\n",
       "    <tr style=\"text-align: right;\">\n",
       "      <th></th>\n",
       "      <th>feature_name</th>\n",
       "      <th>cumsum_diff_mean</th>\n",
       "    </tr>\n",
       "  </thead>\n",
       "  <tbody>\n",
       "    <tr>\n",
       "      <th>5</th>\n",
       "      <td>transactionAmount</td>\n",
       "      <td>0.187715</td>\n",
       "    </tr>\n",
       "    <tr>\n",
       "      <th>9</th>\n",
       "      <td>posEntryMode</td>\n",
       "      <td>0.054751</td>\n",
       "    </tr>\n",
       "    <tr>\n",
       "      <th>19</th>\n",
       "      <td>currentBalance</td>\n",
       "      <td>0.028162</td>\n",
       "    </tr>\n",
       "    <tr>\n",
       "      <th>4</th>\n",
       "      <td>transactionDateTime</td>\n",
       "      <td>0.024655</td>\n",
       "    </tr>\n",
       "    <tr>\n",
       "      <th>11</th>\n",
       "      <td>merchantCategoryCode</td>\n",
       "      <td>0.024434</td>\n",
       "    </tr>\n",
       "    <tr>\n",
       "      <th>20</th>\n",
       "      <td>cardPresent</td>\n",
       "      <td>0.022916</td>\n",
       "    </tr>\n",
       "    <tr>\n",
       "      <th>6</th>\n",
       "      <td>merchantName</td>\n",
       "      <td>0.019050</td>\n",
       "    </tr>\n",
       "    <tr>\n",
       "      <th>1</th>\n",
       "      <td>customerId</td>\n",
       "      <td>0.018539</td>\n",
       "    </tr>\n",
       "    <tr>\n",
       "      <th>0</th>\n",
       "      <td>accountNumber</td>\n",
       "      <td>0.018539</td>\n",
       "    </tr>\n",
       "    <tr>\n",
       "      <th>15</th>\n",
       "      <td>cardCVV</td>\n",
       "      <td>0.016550</td>\n",
       "    </tr>\n",
       "    <tr>\n",
       "      <th>16</th>\n",
       "      <td>enteredCVV</td>\n",
       "      <td>0.016062</td>\n",
       "    </tr>\n",
       "    <tr>\n",
       "      <th>17</th>\n",
       "      <td>cardLast4Digits</td>\n",
       "      <td>0.015556</td>\n",
       "    </tr>\n",
       "    <tr>\n",
       "      <th>10</th>\n",
       "      <td>posConditionCode</td>\n",
       "      <td>0.015012</td>\n",
       "    </tr>\n",
       "    <tr>\n",
       "      <th>13</th>\n",
       "      <td>accountOpenDate</td>\n",
       "      <td>0.013286</td>\n",
       "    </tr>\n",
       "    <tr>\n",
       "      <th>2</th>\n",
       "      <td>creditLimit</td>\n",
       "      <td>0.010635</td>\n",
       "    </tr>\n",
       "    <tr>\n",
       "      <th>14</th>\n",
       "      <td>dateOfLastAddressChange</td>\n",
       "      <td>0.009349</td>\n",
       "    </tr>\n",
       "    <tr>\n",
       "      <th>18</th>\n",
       "      <td>transactionType</td>\n",
       "      <td>0.006901</td>\n",
       "    </tr>\n",
       "    <tr>\n",
       "      <th>3</th>\n",
       "      <td>availableMoney</td>\n",
       "      <td>0.006755</td>\n",
       "    </tr>\n",
       "    <tr>\n",
       "      <th>12</th>\n",
       "      <td>currentExpDate</td>\n",
       "      <td>0.004935</td>\n",
       "    </tr>\n",
       "    <tr>\n",
       "      <th>8</th>\n",
       "      <td>merchantCountryCode</td>\n",
       "      <td>0.003628</td>\n",
       "    </tr>\n",
       "    <tr>\n",
       "      <th>7</th>\n",
       "      <td>acqCountry</td>\n",
       "      <td>0.003429</td>\n",
       "    </tr>\n",
       "    <tr>\n",
       "      <th>21</th>\n",
       "      <td>expirationDateKeyInMatch</td>\n",
       "      <td>0.000487</td>\n",
       "    </tr>\n",
       "  </tbody>\n",
       "</table>\n",
       "</div>"
      ],
      "text/plain": [
       "                feature_name  cumsum_diff_mean\n",
       "5          transactionAmount          0.187715\n",
       "9               posEntryMode          0.054751\n",
       "19            currentBalance          0.028162\n",
       "4        transactionDateTime          0.024655\n",
       "11      merchantCategoryCode          0.024434\n",
       "20               cardPresent          0.022916\n",
       "6               merchantName          0.019050\n",
       "1                 customerId          0.018539\n",
       "0              accountNumber          0.018539\n",
       "15                   cardCVV          0.016550\n",
       "16                enteredCVV          0.016062\n",
       "17           cardLast4Digits          0.015556\n",
       "10          posConditionCode          0.015012\n",
       "13           accountOpenDate          0.013286\n",
       "2                creditLimit          0.010635\n",
       "14   dateOfLastAddressChange          0.009349\n",
       "18           transactionType          0.006901\n",
       "3             availableMoney          0.006755\n",
       "12            currentExpDate          0.004935\n",
       "8        merchantCountryCode          0.003628\n",
       "7                 acqCountry          0.003429\n",
       "21  expirationDateKeyInMatch          0.000487"
      ]
     },
     "execution_count": 18,
     "metadata": {},
     "output_type": "execute_result"
    }
   ],
   "source": [
    "target_col = \"isFraud\"\n",
    "feature_cols = new_df.drop(target_col, axis=1).columns\n",
    "\n",
    "dummy_df = new_df.copy()\n",
    "dummy_df[\"dummy_col\"] = 1\n",
    "df_0 = dummy_df.loc[dummy_df[target_col] == 0]\n",
    "df_1 = dummy_df.loc[dummy_df[target_col] == 1]\n",
    "\n",
    "\n",
    "def get_cumsum_mae(col_inspected):\n",
    "    cumsum_0 = df_0.groupby([col_inspected])[[\"dummy_col\"]].count().cumsum()\n",
    "    cumsum_0 = (cumsum_0 / len(df_0)).reset_index()\n",
    "    cumsum_1 = df_1.groupby([col_inspected])[[\"dummy_col\"]].count().cumsum()\n",
    "    cumsum_1 = (cumsum_1 / len(df_1)).reset_index()\n",
    "\n",
    "    cumsum_compare = (\n",
    "        cumsum_0.merge(cumsum_1, how=\"outer\", on=col_inspected, suffixes=(\"_0\", \"_1\"))\n",
    "        .sort_values(col_inspected)\n",
    "        .reset_index(drop=True)\n",
    "        .fillna(method=\"ffill\")\n",
    "        .fillna(0)\n",
    "    )\n",
    "    return np.mean(\n",
    "        np.abs(cumsum_compare[\"dummy_col_0\"] - cumsum_compare[\"dummy_col_1\"])\n",
    "    )\n",
    "\n",
    "\n",
    "df_features = pd.DataFrame()\n",
    "df_features[\"feature_name\"] = feature_cols\n",
    "df_features[\"cumsum_diff_mean\"] = df_features[\"feature_name\"].map(get_cumsum_mae)\n",
    "df_features.sort_values(\"cumsum_diff_mean\", ascending=False)"
   ]
  },
  {
   "cell_type": "code",
   "execution_count": 19,
   "id": "6f6024e3-d49a-4c9f-944a-ce3c5de8667b",
   "metadata": {},
   "outputs": [],
   "source": [
    "dfff = spark.createDataFrame(new_df)\n",
    "from pyspark.sql.functions import *\n",
    "from pyspark.sql.window import Window\n",
    "\n",
    "win = Window().orderBy(\"transactionAmount\")\n",
    "dfff = dfff.withColumn(\"idx\", row_number().over(win))"
   ]
  },
  {
   "cell_type": "code",
   "execution_count": 20,
   "id": "6fc88aa0-349c-444c-b33e-3c93f8429912",
   "metadata": {},
   "outputs": [],
   "source": [
    "dfff = dfff[\n",
    "    [\n",
    "        \"transactionAmount\",\n",
    "        \"posEntryMode\",\n",
    "        \"currentBalance\",\n",
    "        # \"merchantCategoryCode\",\n",
    "        \"isFraud\",\n",
    "        \"idx\",\n",
    "    ]\n",
    "]"
   ]
  },
  {
   "cell_type": "code",
   "execution_count": 21,
   "id": "21159045-be66-467b-bf61-c3dfeb7bf7d8",
   "metadata": {},
   "outputs": [
    {
     "data": {
      "text/plain": [
       "Row(transactionAmount=0.0, posEntryMode=9.0, currentBalance=1393.66, isFraud=0, idx=1)"
      ]
     },
     "execution_count": 21,
     "metadata": {},
     "output_type": "execute_result"
    }
   ],
   "source": [
    "dfff.head()"
   ]
  },
  {
   "cell_type": "code",
   "execution_count": 22,
   "id": "f913ddec-9c24-47d7-b2d0-9b873be33a07",
   "metadata": {},
   "outputs": [],
   "source": [
    "from pyspark.ml import Pipeline\n",
    "from pyspark.ml.classification import GBTClassifier\n",
    "from pyspark.ml.evaluation import BinaryClassificationEvaluator\n",
    "from pyspark.ml.feature import VectorAssembler, VectorIndexer\n",
    "from pyspark.ml.linalg import DenseVector"
   ]
  },
  {
   "cell_type": "code",
   "execution_count": 23,
   "id": "3dbf67bb-08bd-48ac-ae81-6439effaa09f",
   "metadata": {},
   "outputs": [],
   "source": [
    "from pyspark.ml import Pipeline\n",
    "from pyspark.ml.feature import OneHotEncoder, StringIndexer, VectorAssembler"
   ]
  },
  {
   "cell_type": "code",
   "execution_count": 24,
   "id": "35e918f9-5d4d-49b0-a809-82d297c0491e",
   "metadata": {},
   "outputs": [
    {
     "data": {
      "text/plain": [
       "['transactionAmount', 'posEntryMode', 'currentBalance', 'isFraud', 'idx']"
      ]
     },
     "execution_count": 24,
     "metadata": {},
     "output_type": "execute_result"
    }
   ],
   "source": [
    "dfff.columns"
   ]
  },
  {
   "cell_type": "code",
   "execution_count": 25,
   "id": "7c8b67c3-be1f-42a5-a41b-d95b1b7a2e97",
   "metadata": {},
   "outputs": [
    {
     "data": {
      "text/plain": [
       "[Row(features=DenseVector([0.0, 9.0]), label=0, index=1),\n",
       " Row(features=DenseVector([0.0, 90.0]), label=1, index=2),\n",
       " Row(features=DenseVector([0.0, 9.0]), label=0, index=3)]"
      ]
     },
     "execution_count": 25,
     "metadata": {},
     "output_type": "execute_result"
    }
   ],
   "source": [
    "training_df = dfff.rdd.map(lambda x: (DenseVector(x[0:2]), x[3], x[4]))\n",
    "\n",
    "training_df = spark.createDataFrame(training_df, [\"features\", \"label\", \"index\"])\n",
    "\n",
    "training_df.head(3)"
   ]
  },
  {
   "cell_type": "code",
   "execution_count": 26,
   "id": "ab4c96f3-92f0-43d9-8213-67c66532c69f",
   "metadata": {},
   "outputs": [],
   "source": [
    "training_df = training_df.select(\"index\", \"features\", \"label\")\n",
    "train_data, test_data = training_df.randomSplit([0.8, 0.2], seed=1234)"
   ]
  },
  {
   "cell_type": "code",
   "execution_count": 27,
   "id": "314da9ec-0ea2-4328-afe8-4b1d680d73bb",
   "metadata": {},
   "outputs": [
    {
     "name": "stdout",
     "output_type": "stream",
     "text": [
      "+-----+-----+\n",
      "|label|count|\n",
      "+-----+-----+\n",
      "|    0| 9060|\n",
      "|    1| 9049|\n",
      "+-----+-----+\n",
      "\n"
     ]
    }
   ],
   "source": [
    "train_data.groupBy(\"label\").count().show()"
   ]
  },
  {
   "cell_type": "code",
   "execution_count": 28,
   "id": "3a734cac-8da8-441f-9b17-21d3d18874b9",
   "metadata": {},
   "outputs": [
    {
     "name": "stdout",
     "output_type": "stream",
     "text": [
      "+-----+-----+\n",
      "|label|count|\n",
      "+-----+-----+\n",
      "|    0| 2242|\n",
      "|    1| 2253|\n",
      "+-----+-----+\n",
      "\n"
     ]
    }
   ],
   "source": [
    "test_data.groupBy(\"label\").count().show()"
   ]
  },
  {
   "cell_type": "code",
   "execution_count": 29,
   "id": "9837e007-a3b4-46b0-bf91-55df6cbb4c93",
   "metadata": {},
   "outputs": [],
   "source": [
    "gbt = GBTClassifier(featuresCol=\"features\", maxIter=100, maxDepth=8)"
   ]
  },
  {
   "cell_type": "code",
   "execution_count": 30,
   "id": "8e51ea24-689a-4b71-85ac-8194c20badc9",
   "metadata": {},
   "outputs": [],
   "source": [
    "model = gbt.fit(train_data)"
   ]
  },
  {
   "cell_type": "code",
   "execution_count": 31,
   "id": "cee6f8f9-c049-4f8d-8ddf-e74b20ec2095",
   "metadata": {},
   "outputs": [],
   "source": [
    "predictions = model.transform(test_data)"
   ]
  },
  {
   "cell_type": "code",
   "execution_count": 32,
   "id": "c36f8a15-4a1a-4735-b904-317d284a40e7",
   "metadata": {},
   "outputs": [
    {
     "name": "stdout",
     "output_type": "stream",
     "text": [
      "+----------+-----+\n",
      "|prediction|count|\n",
      "+----------+-----+\n",
      "|       0.0| 2035|\n",
      "|       1.0| 2460|\n",
      "+----------+-----+\n",
      "\n"
     ]
    }
   ],
   "source": [
    "predictions.groupBy(\"prediction\").count().show()"
   ]
  },
  {
   "cell_type": "code",
   "execution_count": 33,
   "id": "ed14236f-a616-4777-80d3-d633a676b3e8",
   "metadata": {},
   "outputs": [
    {
     "data": {
      "text/plain": [
       "0.7037859719600749"
      ]
     },
     "execution_count": 33,
     "metadata": {},
     "output_type": "execute_result"
    }
   ],
   "source": [
    "evaluator = BinaryClassificationEvaluator()\n",
    "evaluator.evaluate(predictions)"
   ]
  },
  {
   "cell_type": "code",
   "execution_count": 34,
   "id": "65f791db-6de2-4b22-9956-f23a8f7da67f",
   "metadata": {},
   "outputs": [],
   "source": [
    "predictions = predictions.withColumn(\n",
    "    \"fraudPrediction\",\n",
    "    when((predictions.label == 1) & (predictions.prediction == 1), 1).otherwise(0),\n",
    ")"
   ]
  },
  {
   "cell_type": "code",
   "execution_count": 35,
   "id": "7f963c11-e572-447c-83d3-8be74cd7955a",
   "metadata": {},
   "outputs": [
    {
     "name": "stdout",
     "output_type": "stream",
     "text": [
      "+---------------+-----+\n",
      "|fraudPrediction|count|\n",
      "+---------------+-----+\n",
      "|              1| 1591|\n",
      "|              0| 2904|\n",
      "+---------------+-----+\n",
      "\n"
     ]
    }
   ],
   "source": [
    "predictions.groupBy(\"fraudPrediction\").count().show()"
   ]
  },
  {
   "cell_type": "code",
   "execution_count": 36,
   "id": "d55495fb-19e3-4b05-8b1f-e73740ab4879",
   "metadata": {},
   "outputs": [
    {
     "name": "stdout",
     "output_type": "stream",
     "text": [
      "+-----+-----+\n",
      "|label|count|\n",
      "+-----+-----+\n",
      "|    0| 2242|\n",
      "|    1| 2253|\n",
      "+-----+-----+\n",
      "\n"
     ]
    }
   ],
   "source": [
    "predictions.groupBy(\"label\").count().show()"
   ]
  },
  {
   "cell_type": "code",
   "execution_count": 37,
   "id": "e734e1d6-d559-42e5-97e9-3ff166eb5526",
   "metadata": {},
   "outputs": [],
   "source": [
    "from pyspark.sql.functions import col"
   ]
  },
  {
   "cell_type": "code",
   "execution_count": 38,
   "id": "70975aba-233c-4493-85b6-d4a2134a2e9d",
   "metadata": {},
   "outputs": [
    {
     "data": {
      "text/plain": [
       "70.61695517088327"
      ]
     },
     "execution_count": 38,
     "metadata": {},
     "output_type": "execute_result"
    }
   ],
   "source": [
    "accurateFraud = (\n",
    "    predictions.groupBy(\"fraudPrediction\")\n",
    "    .count()\n",
    "    .where(predictions.fraudPrediction == 1)\n",
    "    .head()[1]\n",
    ")\n",
    "totalFraud = (\n",
    "    predictions.groupBy(\"label\").count().where(predictions.label == 1).head()[1]\n",
    ")\n",
    "FraudPredictionAccuracy = (accurateFraud / totalFraud) * 100\n",
    "FraudPredictionAccuracy"
   ]
  },
  {
   "cell_type": "code",
   "execution_count": 41,
   "id": "3198e0cf-af7f-4ce7-bd32-f2ad5c27ec02",
   "metadata": {},
   "outputs": [],
   "source": [
    "tp = predictions[(predictions.label == 1) & (predictions.prediction == 1)].count()\n",
    "tn = predictions[(predictions.label == 0) & (predictions.prediction == 0)].count()\n",
    "fp = predictions[(predictions.label == 0) & (predictions.prediction == 1)].count()\n",
    "fn = predictions[(predictions.label == 1) & (predictions.prediction == 0)].count()"
   ]
  },
  {
   "cell_type": "code",
   "execution_count": 43,
   "id": "eb8be472-51ef-4a9d-be0a-7730395960f3",
   "metadata": {},
   "outputs": [
    {
     "name": "stdout",
     "output_type": "stream",
     "text": [
      "True Positive:  1591 \n",
      "True Negative:  1373 \n",
      "False Positive:  869 \n",
      "False Negative:  662\n",
      "Recall:  0.7061695517088327\n",
      "Precision:  0.6467479674796748\n",
      "AccuracY:  70.61695517088327\n"
     ]
    }
   ],
   "source": [
    "print(\n",
    "    \"True Positive: \",\n",
    "    tp,\n",
    "    \"\\nTrue Negative: \",\n",
    "    tn,\n",
    "    \"\\nFalse Positive: \",\n",
    "    fp,\n",
    "    \"\\nFalse Negative: \",\n",
    "    fn,\n",
    ")\n",
    "print(\"Recall: \", tp / (tp + fn))\n",
    "print(\"Precision: \", tp / (tp + fp))\n",
    "print(\"AccuracY: \", FraudPredictionAccuracy)"
   ]
  }
 ],
 "metadata": {
  "kernelspec": {
   "display_name": "Python 3",
   "language": "python",
   "name": "python3"
  },
  "language_info": {
   "codemirror_mode": {
    "name": "ipython",
    "version": 3
   },
   "file_extension": ".py",
   "mimetype": "text/x-python",
   "name": "python",
   "nbconvert_exporter": "python",
   "pygments_lexer": "ipython3",
   "version": "3.9.4"
  }
 },
 "nbformat": 4,
 "nbformat_minor": 5
}
